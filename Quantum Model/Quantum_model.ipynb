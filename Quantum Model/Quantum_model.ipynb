{
 "cells": [
  {
   "cell_type": "code",
   "execution_count": 5,
   "metadata": {},
   "outputs": [
    {
     "ename": "ImportError",
     "evalue": "cannot import name 'QuadraticProgramToIsing' from 'qiskit_optimization.converters' (C:\\Users\\alikh\\AppData\\Local\\Packages\\PythonSoftwareFoundation.Python.3.11_qbz5n2kfra8p0\\LocalCache\\local-packages\\Python311\\site-packages\\qiskit_optimization\\converters\\__init__.py)",
     "output_type": "error",
     "traceback": [
      "\u001b[1;31m---------------------------------------------------------------------------\u001b[0m",
      "\u001b[1;31mImportError\u001b[0m                               Traceback (most recent call last)",
      "Cell \u001b[1;32mIn[5], line 2\u001b[0m\n\u001b[0;32m      1\u001b[0m \u001b[39mfrom\u001b[39;00m \u001b[39mqiskit_optimization\u001b[39;00m\u001b[39m.\u001b[39;00m\u001b[39mproblems\u001b[39;00m \u001b[39mimport\u001b[39;00m QuadraticProgram\n\u001b[1;32m----> 2\u001b[0m \u001b[39mfrom\u001b[39;00m \u001b[39mqiskit_optimization\u001b[39;00m\u001b[39m.\u001b[39;00m\u001b[39mconverters\u001b[39;00m \u001b[39mimport\u001b[39;00m QuadraticProgramToIsing\n\u001b[0;32m      3\u001b[0m \u001b[39mfrom\u001b[39;00m \u001b[39mqiskit_optimization\u001b[39;00m\u001b[39m.\u001b[39;00m\u001b[39mconverters\u001b[39;00m \u001b[39mimport\u001b[39;00m from_pandas_dataframe\n\u001b[0;32m      4\u001b[0m \u001b[39mfrom\u001b[39;00m \u001b[39mqiskit_optimization\u001b[39;00m\u001b[39m.\u001b[39;00m\u001b[39malgorithms\u001b[39;00m \u001b[39mimport\u001b[39;00m MinimumEigenOptimizer\n",
      "\u001b[1;31mImportError\u001b[0m: cannot import name 'QuadraticProgramToIsing' from 'qiskit_optimization.converters' (C:\\Users\\alikh\\AppData\\Local\\Packages\\PythonSoftwareFoundation.Python.3.11_qbz5n2kfra8p0\\LocalCache\\local-packages\\Python311\\site-packages\\qiskit_optimization\\converters\\__init__.py)"
     ]
    }
   ],
   "source": [
    "from qiskit_optimization.problems import QuadraticProgram\n",
    "from qiskit_optimization.converters import from_pandas_dataframe\n",
    "from qiskit_optimization.algorithms import MinimumEigenOptimizer\n",
    "from qiskit.algorithms import NumPyMinimumEigensolver\n",
    "\n",
    "import pandas as pd\n",
    "\n",
    "# Load the data into a pandas dataframe\n",
    "data = pd.read_csv('data.csv')\n",
    "\n",
    "# Create a quadratic program from the data\n",
    "qp = QuadraticProgram()\n",
    "qp.from_dataframe(data)\n",
    "\n",
    "# Convert the quadratic program to an Ising Hamiltonian\n",
    "op, offset = from_quadratic_program(qp)\n",
    "\n",
    "# Solve the problem using NumPyMinimumEigensolver\n",
    "solver = NumPyMinimumEigensolver()\n",
    "result = solver.compute_minimum_eigenvalue(op)\n",
    "\n",
    "# Get the solution and print it\n",
    "x = result.eigenstate.to_matrix()[0]\n",
    "print(x)\n"
   ]
  },
  {
   "cell_type": "code",
   "execution_count": 1,
   "metadata": {},
   "outputs": [
    {
     "data": {
      "image/png": "[encoded data removed]",
      "text/plain": [
       "<Figure size 203.885x284.278 with 1 Axes>"
      ]
     },
     "execution_count": 1,
     "metadata": {},
     "output_type": "execute_result"
    }
   ],
   "source": [
    "# Here we are importing all packages from qiskit\n",
    "from qiskit import *\n",
    "from qiskit.circuit import Parameter\n",
    "from math import pi\n",
    "\n",
    "# define the number of qubits\n",
    "num_q = 3\n",
    "theta = Parameter('θ')\n",
    "# Here create the quantum circuit\n",
    "qc = QuantumCircuit(num_q)\n",
    "\n",
    "# Here we apply the Rz gate to the ith-qubit\n",
    "for i in range(num_q):\n",
    "    qc.rz(theta,i)\n",
    "\n",
    "\n",
    "qc.draw(output='mpl')"
   ]
  },
  {
   "cell_type": "code",
   "execution_count": null,
   "metadata": {},
   "outputs": [],
   "source": []
  }
 ],
 "metadata": {
  "kernelspec": {
   "display_name": "Python 3",
   "language": "python",
   "name": "python3"
  },
  "language_info": {
   "codemirror_mode": {
    "name": "ipython",
    "version": 3
   },
   "file_extension": ".py",
   "mimetype": "text/x-python",
   "name": "python",
   "nbconvert_exporter": "python",
   "pygments_lexer": "ipython3",
   "version": "3.11.4"
  },
  "orig_nbformat": 4
 },
 "nbformat": 4,
 "nbformat_minor": 2
}
