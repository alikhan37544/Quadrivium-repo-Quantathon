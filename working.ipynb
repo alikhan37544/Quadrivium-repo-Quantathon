{
 "cells": [
  {
   "cell_type": "code",
   "execution_count": 2,
   "metadata": {},
   "outputs": [
    {
     "ename": "ModuleNotFoundError",
     "evalue": "No module named 'qiskit.aqua'",
     "output_type": "error",
     "traceback": [
      "\u001b[1;31m---------------------------------------------------------------------------\u001b[0m",
      "\u001b[1;31mModuleNotFoundError\u001b[0m                       Traceback (most recent call last)",
      "Cell \u001b[1;32mIn[2], line 2\u001b[0m\n\u001b[0;32m      1\u001b[0m \u001b[39mfrom\u001b[39;00m \u001b[39mqiskit\u001b[39;00m \u001b[39mimport\u001b[39;00m BasicAer\n\u001b[1;32m----> 2\u001b[0m \u001b[39mfrom\u001b[39;00m \u001b[39mqiskit\u001b[39;00m\u001b[39m.\u001b[39;00m\u001b[39maqua\u001b[39;00m \u001b[39mimport\u001b[39;00m QuantumInstance\n\u001b[0;32m      3\u001b[0m \u001b[39mfrom\u001b[39;00m \u001b[39mqiskit\u001b[39;00m\u001b[39m.\u001b[39;00m\u001b[39maqua\u001b[39;00m\u001b[39m.\u001b[39;00m\u001b[39mcomponents\u001b[39;00m\u001b[39m.\u001b[39;00m\u001b[39moptimizers\u001b[39;00m \u001b[39mimport\u001b[39;00m COBYLA\n\u001b[0;32m      4\u001b[0m \u001b[39mfrom\u001b[39;00m \u001b[39mqiskit\u001b[39;00m\u001b[39m.\u001b[39;00m\u001b[39maqua\u001b[39;00m\u001b[39m.\u001b[39;00m\u001b[39malgorithms\u001b[39;00m \u001b[39mimport\u001b[39;00m VQC\n",
      "\u001b[1;31mModuleNotFoundError\u001b[0m: No module named 'qiskit.aqua'"
     ]
    }
   ],
   "source": [
    "from qiskit import BasicAer\n",
    "from qiskit.aqua import QuantumInstance\n",
    "from qiskit.aqua.components.optimizers import COBYLA\n",
    "from qiskit.aqua.algorithms import VQC\n",
    "from qiskit.circuit.library import ZZFeatureMap\n",
    "from sklearn.model_selection import train_test_split\n",
    "from sklearn.datasets import load_iris\n",
    "\n",
    "\n",
    "iris = load_iris()\n",
    "X = iris.data\n",
    "y = iris.target\n",
    "\n",
    "\n",
    "X_train, X_test, y_train, y_test = train_test_split(X, y, test_size=0.2, random_state=42)\n",
    "\n",
    "\n",
    "feature_map = ZZFeatureMap(feature_dimension=X.shape[1], reps=2)\n",
    "\n",
    "\n",
    "optimizer = COBYLA(maxiter=100)\n",
    "quantum_instance = QuantumInstance(BasicAer.get_backend('statevector_simulator'))\n",
    "vqc = VQC(optimizer, feature_map, quantum_instance)\n",
    "\n",
    "\n",
    "vqc.fit(X_train, y_train)\n",
    "\n",
    "\n",
    "accuracy = vqc.score(X_test, y_test)\n",
    "\n",
    "print(\"Accuracy:\", accuracy)"
   ]
  },
  {
   "cell_type": "code",
   "execution_count": null,
   "metadata": {},
   "outputs": [],
   "source": []
  }
 ],
 "metadata": {
  "kernelspec": {
   "display_name": "Python 3",
   "language": "python",
   "name": "python3"
  },
  "language_info": {
   "codemirror_mode": {
    "name": "ipython",
    "version": 3
   },
   "file_extension": ".py",
   "mimetype": "text/x-python",
   "name": "python",
   "nbconvert_exporter": "python",
   "pygments_lexer": "ipython3",
   "version": "3.11.4"
  },
  "orig_nbformat": 4
 },
 "nbformat": 4,
 "nbformat_minor": 2
}
