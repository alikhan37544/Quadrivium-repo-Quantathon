{
 "cells": [
  {
   "cell_type": "code",
   "execution_count": 1,
   "metadata": {},
   "outputs": [],
   "source": [
    "import pandas as pd\n",
    "\n",
    "# Read CSV files\n",
    "price_df = pd.read_csv('Price_Info.csv')\n",
    "dish_df = pd.read_csv('Dish_info.csv')\n"
   ]
  },
  {
   "cell_type": "code",
   "execution_count": 2,
   "metadata": {},
   "outputs": [
    {
     "data": {
      "text/html": [
       "<div>\n",
       "<style scoped>\n",
       "    .dataframe tbody tr th:only-of-type {\n",
       "        vertical-align: middle;\n",
       "    }\n",
       "\n",
       "    .dataframe tbody tr th {\n",
       "        vertical-align: top;\n",
       "    }\n",
       "\n",
       "    .dataframe thead th {\n",
       "        text-align: right;\n",
       "    }\n",
       "</style>\n",
       "<table border=\"1\" class=\"dataframe\">\n",
       "  <thead>\n",
       "    <tr style=\"text-align: right;\">\n",
       "      <th></th>\n",
       "      <th>Name</th>\n",
       "      <th>Cost per Unit</th>\n",
       "    </tr>\n",
       "  </thead>\n",
       "  <tbody>\n",
       "    <tr>\n",
       "      <th>0</th>\n",
       "      <td>Potatoes</td>\n",
       "      <td>20</td>\n",
       "    </tr>\n",
       "    <tr>\n",
       "      <th>1</th>\n",
       "      <td>onion</td>\n",
       "      <td>30</td>\n",
       "    </tr>\n",
       "    <tr>\n",
       "      <th>2</th>\n",
       "      <td>tomatoes</td>\n",
       "      <td>20</td>\n",
       "    </tr>\n",
       "    <tr>\n",
       "      <th>3</th>\n",
       "      <td>bell peppers</td>\n",
       "      <td>60</td>\n",
       "    </tr>\n",
       "    <tr>\n",
       "      <th>4</th>\n",
       "      <td>spinach</td>\n",
       "      <td>20</td>\n",
       "    </tr>\n",
       "  </tbody>\n",
       "</table>\n",
       "</div>"
      ],
      "text/plain": [
       "           Name  Cost per Unit\n",
       "0      Potatoes             20\n",
       "1         onion             30\n",
       "2      tomatoes             20\n",
       "3  bell peppers             60\n",
       "4       spinach             20"
      ]
     },
     "execution_count": 2,
     "metadata": {},
     "output_type": "execute_result"
    }
   ],
   "source": [
    "price_df.head()"
   ]
  },
  {
   "cell_type": "code",
   "execution_count": 3,
   "metadata": {},
   "outputs": [
    {
     "data": {
      "text/html": [
       "<div>\n",
       "<style scoped>\n",
       "    .dataframe tbody tr th:only-of-type {\n",
       "        vertical-align: middle;\n",
       "    }\n",
       "\n",
       "    .dataframe tbody tr th {\n",
       "        vertical-align: top;\n",
       "    }\n",
       "\n",
       "    .dataframe thead th {\n",
       "        text-align: right;\n",
       "    }\n",
       "</style>\n",
       "<table border=\"1\" class=\"dataframe\">\n",
       "  <thead>\n",
       "    <tr style=\"text-align: right;\">\n",
       "      <th></th>\n",
       "      <th>dish</th>\n",
       "      <th>ingredients</th>\n",
       "      <th>for 3000 people</th>\n",
       "    </tr>\n",
       "  </thead>\n",
       "  <tbody>\n",
       "    <tr>\n",
       "      <th>0</th>\n",
       "      <td>chappati</td>\n",
       "      <td>wheat,</td>\n",
       "      <td>300kg</td>\n",
       "    </tr>\n",
       "    <tr>\n",
       "      <th>1</th>\n",
       "      <td>chenna dal masala</td>\n",
       "      <td>tomato,onion,chenna,spices</td>\n",
       "      <td>600kg</td>\n",
       "    </tr>\n",
       "    <tr>\n",
       "      <th>2</th>\n",
       "      <td>paratha</td>\n",
       "      <td>wheat,aloo,spices</td>\n",
       "      <td>300kg,600kg</td>\n",
       "    </tr>\n",
       "    <tr>\n",
       "      <th>3</th>\n",
       "      <td>dosa</td>\n",
       "      <td>batter</td>\n",
       "      <td>900kg</td>\n",
       "    </tr>\n",
       "    <tr>\n",
       "      <th>4</th>\n",
       "      <td>sambar</td>\n",
       "      <td>dhal,water</td>\n",
       "      <td>450kg</td>\n",
       "    </tr>\n",
       "  </tbody>\n",
       "</table>\n",
       "</div>"
      ],
      "text/plain": [
       "                dish                 ingredients for 3000 people\n",
       "0           chappati                      wheat,           300kg\n",
       "1  chenna dal masala  tomato,onion,chenna,spices           600kg\n",
       "2            paratha           wheat,aloo,spices     300kg,600kg\n",
       "3               dosa                      batter           900kg\n",
       "4             sambar                  dhal,water           450kg"
      ]
     },
     "execution_count": 3,
     "metadata": {},
     "output_type": "execute_result"
    }
   ],
   "source": [
    "dish_df.head()"
   ]
  },
  {
   "cell_type": "code",
   "execution_count": 4,
   "metadata": {},
   "outputs": [],
   "source": [
    "# Split ingredients and expand rows\n",
    "ingredients_split = dish_df['ingredients'].str.split(',')\n",
    "dish_df_expanded = dish_df.loc[dish_df.index.repeat(ingredients_split.str.len())]\n",
    "dish_df_expanded['ingredient'] = [ing.strip() for ingredients in ingredients_split for ing in ingredients]\n"
   ]
  },
  {
   "cell_type": "code",
   "execution_count": 5,
   "metadata": {},
   "outputs": [],
   "source": [
    "ingredients_split = dish_df['ingredients'].str.split(',')\n",
    "num_rows = ingredients_split.str.len()"
   ]
  },
  {
   "cell_type": "code",
   "execution_count": 7,
   "metadata": {},
   "outputs": [],
   "source": [
    "# Split ingredients and expand rows\n",
    "ingredients_split = dish_df['ingredients'].str.split(',')\n",
    "num_rows = ingredients_split.str.len()\n",
    "\n",
    "# Repeat rows based on the number of ingredients\n",
    "dish_df_expanded = dish_df.loc[dish_df.index.repeat(num_rows)]\n",
    "dish_df_expanded['ingredient'] = [ing.strip() for ingredients in ingredients_split for ing in ingredients]\n"
   ]
  },
  {
   "cell_type": "code",
   "execution_count": 15,
   "metadata": {},
   "outputs": [],
   "source": [
    "import pandas as pd\n",
    "\n",
    "# Read CSV files\n",
    "dish_df = pd.read_csv('dish_info.csv')\n",
    "price_df = pd.read_csv('price_info.csv')\n",
    "\n",
    "# Split ingredients and expand rows\n",
    "ingredients_split = dish_df['ingredients'].str.split(',')\n",
    "num_rows = ingredients_split.str.len()\n",
    "\n",
    "# Repeat rows based on the number of ingredients\n",
    "dish_df_expanded = dish_df.loc[dish_df.index.repeat(num_rows)]\n",
    "dish_df_expanded['ingredient'] = [ing.strip() for ingredients in ingredients_split for ing in ingredients]\n",
    "\n",
    "# Merge DataFrames\n",
    "merged_df = pd.merge(dish_df_expanded, price_df, left_on='ingredient', right_on='Name', how='left')\n",
    "\n",
    "# Convert \"for 3000 people\" to numeric values\n",
    "merged_df['for 3000 people'] = merged_df['for 3000 people'].str.replace('[a-zA-Z]', '', regex=True).astype(float)\n",
    "\n",
    "# Calculate ingredient cost per dish\n",
    "merged_df['Ingredient Cost'] = merged_df['Cost per Unit'] * merged_df['for 3000 people']\n",
    "\n",
    "# Group by dish and aggregate total cost\n",
    "total_cost_df = merged_df.groupby('dish')['Ingredient Cost'].sum().reset_index()\n"
   ]
  },
  {
   "cell_type": "code",
   "execution_count": 18,
   "metadata": {},
   "outputs": [],
   "source": [
    "total_cost_df.to_csv('ultra_data.csv')\n"
   ]
  },
  {
   "cell_type": "code",
   "execution_count": null,
   "metadata": {},
   "outputs": [],
   "source": []
  }
 ],
 "metadata": {
  "kernelspec": {
   "display_name": "Python 3",
   "language": "python",
   "name": "python3"
  },
  "language_info": {
   "codemirror_mode": {
    "name": "ipython",
    "version": 3
   },
   "file_extension": ".py",
   "mimetype": "text/x-python",
   "name": "python",
   "nbconvert_exporter": "python",
   "pygments_lexer": "ipython3",
   "version": "3.11.4"
  },
  "orig_nbformat": 4
 },
 "nbformat": 4,
 "nbformat_minor": 2
}
